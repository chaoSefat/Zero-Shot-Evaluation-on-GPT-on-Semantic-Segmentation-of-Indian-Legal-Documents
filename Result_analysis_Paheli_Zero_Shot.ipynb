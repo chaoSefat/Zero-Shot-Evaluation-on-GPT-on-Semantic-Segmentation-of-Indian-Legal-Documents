{
  "nbformat": 4,
  "nbformat_minor": 0,
  "metadata": {
    "colab": {
      "provenance": []
    },
    "kernelspec": {
      "name": "python3",
      "display_name": "Python 3"
    },
    "language_info": {
      "name": "python"
    }
  },
  "cells": [
    {
      "cell_type": "code",
      "execution_count": null,
      "metadata": {
        "id": "Die5hoMeP6Dz"
      },
      "outputs": [],
      "source": [
        "import requests\n",
        "from sklearn.metrics import accuracy_score, precision_recall_fscore_support\n",
        "import os\n",
        "import json\n",
        "from tqdm import tqdm\n",
        "from sklearn.metrics import f1_score, classification_report, confusion_matrix\n",
        "import re\n",
        "import numpy as np"
      ]
    },
    {
      "cell_type": "code",
      "source": [
        "def read_from_json(input_file):\n",
        "    with open(input_file, 'r') as file:\n",
        "        data = json.load(file)\n",
        "    return data\n",
        "def convert_to_lowercase(string_list):\n",
        "    return [s.lower() for s in string_list]"
      ],
      "metadata": {
        "id": "ei40qipgQCcs"
      },
      "execution_count": null,
      "outputs": []
    },
    {
      "cell_type": "code",
      "source": [
        "from google.colab import drive\n",
        "drive.mount('/content/drive')"
      ],
      "metadata": {
        "colab": {
          "base_uri": "https://localhost:8080/"
        },
        "id": "KjKTpI35QH5Q",
        "outputId": "d4597da6-6599-403e-b01e-ac9333dabebb"
      },
      "execution_count": null,
      "outputs": [
        {
          "output_type": "stream",
          "name": "stdout",
          "text": [
            "Mounted at /content/drive\n"
          ]
        }
      ]
    },
    {
      "cell_type": "code",
      "source": [
        "%cd '/content/drive/MyDrive/Zero_Shot_Legal/Paheli'"
      ],
      "metadata": {
        "colab": {
          "base_uri": "https://localhost:8080/"
        },
        "id": "sVdu9S0rWw7i",
        "outputId": "426417b0-5ecc-4d64-b318-139f2c02de0d"
      },
      "execution_count": null,
      "outputs": [
        {
          "output_type": "stream",
          "name": "stdout",
          "text": [
            "/content/drive/MyDrive/Zero_Shot_Legal/Paheli\n"
          ]
        }
      ]
    },
    {
      "cell_type": "markdown",
      "source": [
        "# Sentence Level"
      ],
      "metadata": {
        "id": "OBdQEp00W2v5"
      }
    },
    {
      "cell_type": "markdown",
      "source": [
        "## Random Guess"
      ],
      "metadata": {
        "id": "XTsNlBEvaLqp"
      }
    },
    {
      "cell_type": "code",
      "source": [
        "sentence_documents = read_from_json('paheli_sentence_label_dicts.json')"
      ],
      "metadata": {
        "id": "Y02gS3PVaLUx"
      },
      "execution_count": null,
      "outputs": []
    },
    {
      "cell_type": "code",
      "source": [
        "true_labels = []\n",
        "for item in sentence_documents:\n",
        "  true_labels.append(item['label'])\n",
        "\n",
        "unique_classes = np.unique(true_labels)\n",
        "num_classes = len(unique_classes)\n"
      ],
      "metadata": {
        "id": "xqej4QLVawJg"
      },
      "execution_count": null,
      "outputs": []
    },
    {
      "cell_type": "code",
      "source": [
        "label_to_int = {label: i for i, label in enumerate(unique_classes)}\n",
        "int_to_label = {i: label for label, i in label_to_int.items()}\n",
        "true_labels_int = np.array([label_to_int[label] for label in true_labels])\n",
        "class_probabilities = [1/num_classes] * num_classes"
      ],
      "metadata": {
        "id": "GQFxESWUcKq2"
      },
      "execution_count": null,
      "outputs": []
    },
    {
      "cell_type": "code",
      "source": [
        "random_predictions_int = np.random.choice(num_classes, size=len(true_labels_int), p=class_probabilities)\n",
        "\n",
        "random_predictions = np.array([int_to_label[pred] for pred in random_predictions_int])\n"
      ],
      "metadata": {
        "id": "IqwZqGRDcE2N"
      },
      "execution_count": null,
      "outputs": []
    },
    {
      "cell_type": "code",
      "source": [
        "report = classification_report(true_labels, random_predictions)\n",
        "conf_matrix = confusion_matrix(true_labels, random_predictions)\n",
        "f1_micro = f1_score(true_labels, random_predictions, average='micro')\n",
        "f1_macro = f1_score(true_labels, random_predictions, average='macro')"
      ],
      "metadata": {
        "id": "HXxaiOpQcJTF"
      },
      "execution_count": null,
      "outputs": []
    },
    {
      "cell_type": "code",
      "source": [
        "print(f\"F1_Micro: {f1_micro}\")\n",
        "print(f\"F1_Macro: {f1_macro}\")\n",
        "print(\"Classification Report:\")\n",
        "print(report)\n",
        "print(\"Confusion Matrix:\")\n",
        "print(conf_matrix)"
      ],
      "metadata": {
        "colab": {
          "base_uri": "https://localhost:8080/"
        },
        "id": "2d-gZAKjcZun",
        "outputId": "52808635-d6ae-4c1b-fe2c-bf7f4e2fd4fc"
      },
      "execution_count": null,
      "outputs": [
        {
          "output_type": "stream",
          "name": "stdout",
          "text": [
            "F1_Micro: 0.14125799573560768\n",
            "F1_Macro: 0.11706625535241375\n",
            "Classification Report:\n",
            "                         precision    recall  f1-score   support\n",
            "\n",
            "               Argument       0.10      0.16      0.12       845\n",
            "                  Facts       0.24      0.14      0.17      2219\n",
            "              Precedent       0.14      0.12      0.13      1468\n",
            "  Ratio of the decision       0.40      0.15      0.22      3624\n",
            "  Ruling by Lower Court       0.03      0.13      0.05       316\n",
            "Ruling by Present Court       0.03      0.13      0.04       262\n",
            "                Statute       0.06      0.13      0.09       646\n",
            "\n",
            "               accuracy                           0.14      9380\n",
            "              macro avg       0.14      0.14      0.12      9380\n",
            "           weighted avg       0.25      0.14      0.17      9380\n",
            "\n",
            "Confusion Matrix:\n",
            "[[131 116 114 126 121 119 118]\n",
            " [337 306 326 317 321 290 322]\n",
            " [223 213 182 194 239 207 210]\n",
            " [487 485 525 546 549 517 515]\n",
            " [ 44  42  59  44  41  48  38]\n",
            " [ 35  34  35  40  40  34  44]\n",
            " [106  84  89 102  90  90  85]]\n"
          ]
        }
      ]
    },
    {
      "cell_type": "code",
      "source": [],
      "metadata": {
        "id": "fv_6tnJOcZsD"
      },
      "execution_count": null,
      "outputs": []
    },
    {
      "cell_type": "markdown",
      "source": [
        "## 3.5 Turbo"
      ],
      "metadata": {
        "id": "o0Lgp63qXbIB"
      }
    },
    {
      "cell_type": "code",
      "source": [
        "prediction_output_file_name = \"gpt-3.5-turbo\" + \"paheli_output_predictions.json\""
      ],
      "metadata": {
        "id": "d_SodGW7QL0J"
      },
      "execution_count": null,
      "outputs": []
    },
    {
      "cell_type": "code",
      "source": [
        "prediction_output_file = read_from_json(prediction_output_file_name)"
      ],
      "metadata": {
        "id": "vgoJOMTgWWhA"
      },
      "execution_count": null,
      "outputs": []
    },
    {
      "cell_type": "code",
      "source": [
        "true_labels = [entry['label'] for entry in prediction_output_file]\n",
        "pred_labels = [entry['pred_label'] for entry in prediction_output_file]\n",
        "\n",
        "desired_labels = [\"Facts\", \"Ruling by Lower Court\", \"Argument\", \"Statute\", \"Precedent\", \"Ratio of the decision\", \"Ruling by Present Court\"]\n",
        "\n",
        "# Function to clean up label names\n",
        "def clean_label(label):\n",
        "    # Remove unwanted characters and strip leading/trailing whitespace\n",
        "    cleaned_label = re.sub(r'[^a-zA-Z\\s]', '', label).strip()\n",
        "\n",
        "    # Correct common variations\n",
        "    for desired_label in desired_labels:\n",
        "        if cleaned_label.lower() in desired_label:\n",
        "            return desired_label\n",
        "    return cleaned_label\n",
        "\n",
        "cleaned_labels = [clean_label(label) for label in pred_labels]\n",
        "\n",
        "#to lower case:\n",
        "true_labels = convert_to_lowercase(true_labels)\n",
        "cleaned_labels = convert_to_lowercase(cleaned_labels)\n",
        "\n",
        "report = classification_report(true_labels, cleaned_labels)\n",
        "conf_matrix = confusion_matrix(true_labels, cleaned_labels)\n",
        "f1_micro = f1_score(true_labels, cleaned_labels, average='micro')\n",
        "f1_macro = f1_score(true_labels, cleaned_labels, average='macro')\n",
        "\n",
        "print(f\"F1_Micro: {f1_micro}\")\n",
        "print(f\"F1_Macro: {f1_macro}\")"
      ],
      "metadata": {
        "colab": {
          "base_uri": "https://localhost:8080/"
        },
        "id": "GwIg4bcyXeOK",
        "outputId": "25c9d9eb-0e8a-424f-9923-6717cde48406"
      },
      "execution_count": null,
      "outputs": [
        {
          "output_type": "stream",
          "name": "stderr",
          "text": [
            "/usr/local/lib/python3.10/dist-packages/sklearn/metrics/_classification.py:1344: UndefinedMetricWarning: Recall and F-score are ill-defined and being set to 0.0 in labels with no true samples. Use `zero_division` parameter to control this behavior.\n",
            "  _warn_prf(average, modifier, msg_start, len(result))\n",
            "/usr/local/lib/python3.10/dist-packages/sklearn/metrics/_classification.py:1344: UndefinedMetricWarning: Recall and F-score are ill-defined and being set to 0.0 in labels with no true samples. Use `zero_division` parameter to control this behavior.\n",
            "  _warn_prf(average, modifier, msg_start, len(result))\n",
            "/usr/local/lib/python3.10/dist-packages/sklearn/metrics/_classification.py:1344: UndefinedMetricWarning: Recall and F-score are ill-defined and being set to 0.0 in labels with no true samples. Use `zero_division` parameter to control this behavior.\n",
            "  _warn_prf(average, modifier, msg_start, len(result))\n"
          ]
        },
        {
          "output_type": "stream",
          "name": "stdout",
          "text": [
            "F1_Micro: 0.3760782058654399\n",
            "F1_Macro: 0.0629280068926704\n"
          ]
        }
      ]
    },
    {
      "cell_type": "markdown",
      "source": [
        "## GPT 4 Turbo"
      ],
      "metadata": {
        "id": "wH38M2HNYUmm"
      }
    },
    {
      "cell_type": "code",
      "source": [
        "prediction_output_file_name = \"gpt-4-turbo\" + \"paheli_output_predictions.json\"\n",
        "prediction_output_file = read_from_json(prediction_output_file_name)"
      ],
      "metadata": {
        "id": "QCcYUC4TYXEK"
      },
      "execution_count": null,
      "outputs": []
    },
    {
      "cell_type": "code",
      "source": [
        "true_labels = [entry['label'] for entry in prediction_output_file]\n",
        "pred_labels = [entry['pred_label'] for entry in prediction_output_file]\n",
        "\n",
        "desired_labels = [\"Facts\", \"Ruling by Lower Court\", \"Argument\", \"Statute\", \"Precedent\", \"Ratio of the decision\", \"Ruling by Present Court\"]\n",
        "\n",
        "# Function to clean up label names\n",
        "def clean_label(label):\n",
        "    # Remove unwanted characters and strip leading/trailing whitespace\n",
        "    cleaned_label = re.sub(r'[^a-zA-Z\\s]', '', label).strip()\n",
        "\n",
        "    # Correct common variations\n",
        "    for desired_label in desired_labels:\n",
        "        if cleaned_label.lower() in desired_label:\n",
        "            return desired_label\n",
        "    return cleaned_label\n",
        "\n",
        "cleaned_labels = [clean_label(label) for label in pred_labels]\n",
        "\n",
        "#to lower case:\n",
        "true_labels = convert_to_lowercase(true_labels)\n",
        "cleaned_labels = convert_to_lowercase(cleaned_labels)\n",
        "\n",
        "# Calculate F1 scores\n",
        "f1_micro = f1_score(true_labels, cleaned_labels, average='micro')\n",
        "f1_macro = f1_score(true_labels, cleaned_labels, average='macro')\n",
        "#accuracy_score = accuracy_score(true_labels, cleaned_labels)\n",
        "\n",
        "print(f\"F1 Micro Score: {f1_micro}\")\n",
        "print(f\"F1 Macro Score: {f1_macro}\")\n",
        "#print(f\"Accuracy: {accuracy_score}\")"
      ],
      "metadata": {
        "colab": {
          "base_uri": "https://localhost:8080/"
        },
        "id": "M8GylHakYW-t",
        "outputId": "1653a5c7-28d4-4b31-b655-006d20923f0d"
      },
      "execution_count": null,
      "outputs": [
        {
          "output_type": "stream",
          "name": "stdout",
          "text": [
            "F1 Micro Score: 0.3893041978148361\n",
            "F1 Macro Score: 0.12347928239133932\n"
          ]
        }
      ]
    },
    {
      "cell_type": "markdown",
      "source": [
        "#Span Level"
      ],
      "metadata": {
        "id": "YF83l1IUW0T3"
      }
    },
    {
      "cell_type": "markdown",
      "source": [
        "## 3.5\n"
      ],
      "metadata": {
        "id": "w1Z_fQ06fqUk"
      }
    },
    {
      "cell_type": "code",
      "source": [
        "prediction_output_file_name = \"gpt-3.5-turbo\" + \"paheli_span_output_predictions.json\"\n",
        "prediction_output_file = read_from_json(prediction_output_file_name)\n",
        "true_labels = [entry['label'] for entry in prediction_output_file]\n",
        "pred_labels = [entry['pred_label'] for entry in prediction_output_file]\n",
        "\n",
        "desired_labels = [\"Facts\", \"Ruling by Lower Court\", \"Argument\", \"Statute\", \"Precedent\", \"Ratio of the decision\", \"Ruling by Present Court\"]\n",
        "\n",
        "# Function to clean up label names\n",
        "def clean_label(label):\n",
        "    # Remove unwanted characters and strip leading/trailing whitespace\n",
        "    cleaned_label = re.sub(r'[^a-zA-Z\\s]', '', label).strip()\n",
        "\n",
        "    # Correct common variations\n",
        "    for desired_label in desired_labels:\n",
        "        if cleaned_label.lower() in desired_label:\n",
        "            return desired_label\n",
        "    return cleaned_label\n",
        "\n",
        "cleaned_labels = [clean_label(label) for label in pred_labels]\n",
        "\n",
        "#to lower case:\n",
        "true_labels = convert_to_lowercase(true_labels)\n",
        "cleaned_labels = convert_to_lowercase(cleaned_labels)\n",
        "\n",
        "# Calculate F1 scores\n",
        "f1_micro = f1_score(true_labels, cleaned_labels, average='micro')\n",
        "f1_macro = f1_score(true_labels, cleaned_labels, average='macro')\n",
        "#accuracy_score = accuracy_score(true_labels, cleaned_labels)\n",
        "\n",
        "print(f\"F1 Micro Score: {f1_micro}\")\n",
        "print(f\"F1 Macro Score: {f1_macro}\")\n",
        "#print(f\"Accuracy: {accuracy_score}\")"
      ],
      "metadata": {
        "colab": {
          "base_uri": "https://localhost:8080/"
        },
        "id": "C9l84MKZWcCt",
        "outputId": "531df7b4-2bb5-4471-80e7-1d8b8782f2b2"
      },
      "execution_count": null,
      "outputs": [
        {
          "output_type": "stream",
          "name": "stdout",
          "text": [
            "F1 Micro Score: 0.5\n",
            "F1 Macro Score: 0.4252825335575369\n"
          ]
        }
      ]
    },
    {
      "cell_type": "markdown",
      "source": [
        "## 4"
      ],
      "metadata": {
        "id": "Zjkgo0AFhttM"
      }
    },
    {
      "cell_type": "code",
      "source": [
        "prediction_output_file_name = \"gpt-4-turbo\" + \"paheli_span_output_predictions.json\"\n",
        "prediction_output_file = read_from_json(prediction_output_file_name)\n",
        "true_labels = [entry['label'] for entry in prediction_output_file]\n",
        "pred_labels = [entry['pred_label'] for entry in prediction_output_file]\n",
        "\n",
        "desired_labels = [\"Facts\", \"Ruling by Lower Court\", \"Argument\", \"Statute\", \"Precedent\", \"Ratio of the decision\", \"Ruling by Present Court\"]\n",
        "\n",
        "# Function to clean up label names\n",
        "def clean_label(label):\n",
        "    # Remove unwanted characters and strip leading/trailing whitespace\n",
        "    cleaned_label = re.sub(r'[^a-zA-Z\\s]', '', label).strip()\n",
        "\n",
        "    # Correct common variations\n",
        "    for desired_label in desired_labels:\n",
        "        if cleaned_label.lower() in desired_label:\n",
        "            return desired_label\n",
        "    return cleaned_label\n",
        "\n",
        "cleaned_labels = [clean_label(label) for label in pred_labels]\n",
        "\n",
        "#to lower case:\n",
        "true_labels = convert_to_lowercase(true_labels)\n",
        "cleaned_labels = convert_to_lowercase(cleaned_labels)\n",
        "\n",
        "# Calculate F1 scores\n",
        "f1_micro = f1_score(true_labels, cleaned_labels, average='micro')\n",
        "f1_macro = f1_score(true_labels, cleaned_labels, average='macro')\n",
        "#accuracy_score = accuracy_score(true_labels, cleaned_labels)\n",
        "\n",
        "print(f\"F1 Micro Score: {f1_micro}\")\n",
        "print(f\"F1 Macro Score: {f1_macro}\")\n",
        "#print(f\"Accuracy: {accuracy_score}\")"
      ],
      "metadata": {
        "colab": {
          "base_uri": "https://localhost:8080/"
        },
        "id": "g1jKDdV1hrct",
        "outputId": "9a818bbe-8a6c-4a35-c85a-f95223901288"
      },
      "execution_count": null,
      "outputs": [
        {
          "output_type": "stream",
          "name": "stdout",
          "text": [
            "F1 Micro Score: 0.585\n",
            "F1 Macro Score: 0.3777520033346567\n"
          ]
        }
      ]
    },
    {
      "cell_type": "markdown",
      "source": [
        "#PLotting"
      ],
      "metadata": {
        "id": "qZ9BJBpq5PrT"
      }
    },
    {
      "cell_type": "code",
      "source": [
        "import matplotlib.pyplot as plt\n",
        "\n",
        "# Define the data for the bars\n",
        "heights = [11.70, 37.608, 38.93, 50.0, 58.5, 82.08]\n",
        "colors = ['red', 'blue', 'green', 'purple', 'orange', 'brown']\n",
        "models = (\"Random Guess\", \"GPT 3.5\", \"GPT 4\", \"GPT 3.5 (Spans)\", \"GPT 4 (Spans)\", 'Best Reported')\n",
        "\n",
        "fig, ax = plt.subplots(figsize=(9, 8))\n",
        "\n",
        "# Create the bar plot\n",
        "bars = plt.bar(models, heights, color=colors, width=0.4, zorder=2)\n",
        "\n",
        "# Add the heights on the bars\n",
        "for bar in bars:\n",
        "    height = bar.get_height()\n",
        "    ax.text(bar.get_x() + bar.get_width() / 2.0, height, f'{height}', ha='center', va='bottom')\n",
        "\n",
        "# Add a title and axis labels\n",
        "plt.ylabel('F1 Score')\n",
        "\n",
        "plt.ylim(0, 100)\n",
        "plt.grid(axis='y', zorder=1)\n",
        "\n",
        "# Show the plot\n",
        "plt.show()\n"
      ],
      "metadata": {
        "colab": {
          "base_uri": "https://localhost:8080/",
          "height": 682
        },
        "id": "O9LlN3jbhy_3",
        "outputId": "1376e6af-f7d0-4cda-9cd8-6f7951c56c88"
      },
      "execution_count": null,
      "outputs": [
        {
          "output_type": "display_data",
          "data": {
            "text/plain": [
              "<Figure size 900x800 with 1 Axes>"
            ],
            "image/png": "[encoded data removed]"
          },
          "metadata": {}
        }
      ]
    },
    {
      "cell_type": "code",
      "source": [],
      "metadata": {
        "id": "JKAdBaff7TjS"
      },
      "execution_count": null,
      "outputs": []
    }
  ]
}